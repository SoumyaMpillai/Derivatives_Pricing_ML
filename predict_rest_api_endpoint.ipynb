{
 "cells": [
  {
   "cell_type": "code",
   "execution_count": null,
   "id": "f4de55f8",
   "metadata": {},
   "outputs": [
    {
     "name": "stdout",
     "output_type": "stream",
     "text": [
      " * Serving Flask app '__main__'\n",
      " * Debug mode: on\n"
     ]
    },
    {
     "name": "stderr",
     "output_type": "stream",
     "text": [
      "WARNING: This is a development server. Do not use it in a production deployment. Use a production WSGI server instead.\n",
      " * Running on http://127.0.0.1:5000\n",
      "Press CTRL+C to quit\n"
     ]
    }
   ],
   "source": [
    "import pickle\n",
    "from flask import Flask, request, jsonify\n",
    "lm=0\n",
    "app = Flask(__name__)\n",
    "@app.route('/predict', methods=['POST'])\n",
    "def predict():\n",
    "    data = request.json\n",
    "    lm = pickle.load(open(\"model.pkl\", \"rb\"))\n",
    "\n",
    "    strike_price = data['strike_price']\n",
    "    spot_price = data['spot_price']\n",
    "    bid_ask = data['bid_ask']\n",
    "    diff = data['diff']\n",
    "    orders = data['orders']\n",
    "    days_diff = data['days_diff']\n",
    "    time_to_expiry = data['time_to_expiry']\n",
    "    implied_volatility = data['implied_volatility']\n",
    "\n",
    "    x = np.array([strike_price, spot_price, bid_ask, diff, orders, days_diff, time_to_expiry, implied_volatility])\n",
    "\n",
    "    y_pred = lm.predict(x)\n",
    "\n",
    "    return jsonify({'option_call_price': y_pred[0]})\n",
    "\n",
    "\n",
    "if __name__ == '__main__':\n",
    "    pickle.dump(lm, open(\"model.pkl\", \"wb\"))\n",
    "    app.run(debug=True, use_reloader=False)"
   ]
  }
 ],
 "metadata": {
  "kernelspec": {
   "display_name": "Python 3 (ipykernel)",
   "language": "python",
   "name": "python3"
  },
  "language_info": {
   "codemirror_mode": {
    "name": "ipython",
    "version": 3
   },
   "file_extension": ".py",
   "mimetype": "text/x-python",
   "name": "python",
   "nbconvert_exporter": "python",
   "pygments_lexer": "ipython3",
   "version": "3.10.9"
  }
 },
 "nbformat": 4,
 "nbformat_minor": 5
}
